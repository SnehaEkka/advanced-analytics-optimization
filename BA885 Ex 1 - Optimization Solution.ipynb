{
  "nbformat": 4,
  "nbformat_minor": 0,
  "metadata": {
    "colab": {
      "provenance": []
    },
    "kernelspec": {
      "name": "python3",
      "display_name": "Python 3"
    },
    "language_info": {
      "name": "python"
    }
  },
  "cells": [
    {
      "cell_type": "markdown",
      "source": [
        "# Optimizing fertilizer purchase plan and cost\n",
        "\n",
        "In the following code, we will implement the fertilizer purchase and cost problem in Pyomo. The model is given as follows:\n",
        "\n",
        "**Decision variables**\n",
        "\n",
        "$A$ = pounds to fertilizer A to be purchased\n",
        "\n",
        "$B$ = pounds to fertilizer B to be purchased\n",
        "\n",
        "$C$ = pounds to fertilizer C to be purchased\n",
        "\n",
        "**Objective function**\n",
        "\n",
        "Minimize total cost\n",
        "$$\n",
        "z = 0.01 A + 0.008 B + 0.007 C\n",
        "$$\n",
        "\n",
        "**Constraints**\n",
        "\n",
        "Subject to the following mineral content requirements/constraints\n",
        "\n",
        "$$\n",
        "\\begin{align}\n",
        "Nitrogen\\\\\n",
        "0.02  A   & + & 0.01  B   & + & 0.015 C  & \\ge 1.2  & \\text{(lb)}\\\\\n",
        "Phosphorus\\\\\n",
        "0.01  A   & + & 0.005 B   & + & 0.01  C  & \\ge 1.4  & \\text{(lb)}\\\\\n",
        "Potash\\\\\n",
        "0.005 A   & + & 0.015 B   & + & 0.005 C  & \\ge 1.8  & \\text{(lb)}\n",
        "\\end{align}\n",
        "$$"
      ],
      "metadata": {
        "id": "c5xrUA_6aKKT"
      }
    },
    {
      "cell_type": "markdown",
      "source": [
        "**Install Pyomo and a few optimization engines**"
      ],
      "metadata": {
        "id": "Hj-U3Py-c73r"
      }
    },
    {
      "cell_type": "code",
      "execution_count": null,
      "metadata": {
        "id": "ZdH2VsmeaD_Z"
      },
      "outputs": [],
      "source": [
        "%%capture\n",
        "import sys\n",
        "import os\n",
        "\n",
        "if 'google.colab' in sys.modules:\n",
        "    !pip install idaes-pse --pre    # Installs a set of good open source optimization tools\n",
        "    !idaes get-extensions --to ./bin\n",
        "    os.environ['PATH'] += ':bin'    # Add to path so we can find it\n",
        "\n",
        "import pyomo.environ as pyo         # Import pyomo"
      ]
    },
    {
      "cell_type": "markdown",
      "source": [
        "**Instantiate an engine that we can use to optimize**"
      ],
      "metadata": {
        "id": "mpzEh_luc-E_"
      }
    },
    {
      "cell_type": "code",
      "source": [
        "opt = pyo.SolverFactory('cbc')"
      ],
      "metadata": {
        "id": "Z8S0XSwjc4CO"
      },
      "execution_count": null,
      "outputs": []
    },
    {
      "cell_type": "markdown",
      "source": [
        "**The next step is to create an optimization model in Pyomo**"
      ],
      "metadata": {
        "id": "S6Ec1LdfdFkE"
      }
    },
    {
      "cell_type": "code",
      "source": [
        "m = pyo.ConcreteModel()\n",
        "  # Instantiate a model\n",
        "\n",
        "# Define variables\n",
        "m.A = pyo.Var(domain=pyo.NonNegativeReals)\n",
        "m.B = pyo.Var(domain=pyo.NonNegativeReals)\n",
        "m.C = pyo.Var(domain=pyo.NonNegativeReals)\n",
        "  # three variables, defined to be continuous and non-negative.\n",
        "\n",
        "m.TotalCost = pyo.Objective( expr = 0.01*m.A + 0.008*m.B + 0.007*m.C, sense=pyo.minimize )\n",
        "\n",
        "m.NitrogenContent = pyo.Constraint( expr = 0.02*m.A + 0.01*m.B + 0.015*m.C >= 1.2 )\n",
        "m.PhosphorusContent = pyo.Constraint( expr = 0.01*m.A + 0.005*m.B + 0.01*m.C >= 1.4 )\n",
        "m.PotashContent = pyo.Constraint( expr = 0.005*m.A + 0.015*m.B + 0.005*m.C >= 1.8 )"
      ],
      "metadata": {
        "id": "a96nrPI8dFDG"
      },
      "execution_count": null,
      "outputs": []
    },
    {
      "cell_type": "code",
      "source": [
        "# We can print the model to get a sense of what is in it\n",
        "m.pprint()"
      ],
      "metadata": {
        "colab": {
          "base_uri": "https://localhost:8080/"
        },
        "id": "SEUD-pWVeNqt",
        "outputId": "6310cde5-e1d6-440b-9a91-417cd435aaa2"
      },
      "execution_count": null,
      "outputs": [
        {
          "output_type": "stream",
          "name": "stdout",
          "text": [
            "3 Var Declarations\n",
            "    A : Size=1, Index=None\n",
            "        Key  : Lower : Value : Upper : Fixed : Stale : Domain\n",
            "        None :     0 :  None :  None : False :  True : NonNegativeReals\n",
            "    B : Size=1, Index=None\n",
            "        Key  : Lower : Value : Upper : Fixed : Stale : Domain\n",
            "        None :     0 :  None :  None : False :  True : NonNegativeReals\n",
            "    C : Size=1, Index=None\n",
            "        Key  : Lower : Value : Upper : Fixed : Stale : Domain\n",
            "        None :     0 :  None :  None : False :  True : NonNegativeReals\n",
            "\n",
            "1 Objective Declarations\n",
            "    TotalCost : Size=1, Index=None, Active=True\n",
            "        Key  : Active : Sense    : Expression\n",
            "        None :   True : minimize : 0.01*A + 0.008*B + 0.007*C\n",
            "\n",
            "3 Constraint Declarations\n",
            "    NitrogenContent : Size=1, Index=None, Active=True\n",
            "        Key  : Lower : Body                      : Upper : Active\n",
            "        None :   1.2 : 0.02*A + 0.01*B + 0.015*C :  +Inf :   True\n",
            "    PhosphorusContent : Size=1, Index=None, Active=True\n",
            "        Key  : Lower : Body                      : Upper : Active\n",
            "        None :   1.4 : 0.01*A + 0.005*B + 0.01*C :  +Inf :   True\n",
            "    PotashContent : Size=1, Index=None, Active=True\n",
            "        Key  : Lower : Body                        : Upper : Active\n",
            "        None :   1.8 : 0.005*A + 0.015*B + 0.005*C :  +Inf :   True\n",
            "\n",
            "7 Declarations: A B C TotalCost NitrogenContent PhosphorusContent PotashContent\n"
          ]
        }
      ]
    },
    {
      "cell_type": "code",
      "source": [
        "m.dual = pyo.Suffix(direction=pyo.Suffix.IMPORT)\n",
        "  # Only necessary to access the shadow price here. Must be done before optimizing.\n",
        "  # The Suffix is the mechanism through which Pyomo accesses the internal variables.\n",
        "  # IMPORT here suggests that we are going to use the variable to receive some information from the\n",
        "  # optimizer (in contrast to send some extra information to it).\n",
        "\n",
        "opt.solve(m)\n",
        "print(\"Decision variables: \")\n",
        "print(\"Fertilizer A  \", m.A.value)\n",
        "print(\"Fertilizer B  \", m.B.value)\n",
        "print(\"Fertilizer C  \", m.C.value)\n",
        "\n",
        "print(\"\\nObjective: \")\n",
        "print(\"Total cost obtained\", m.TotalCost())\n",
        "\n",
        "# We can also get the LHS of the constraints, showing us how much of the resources were used:\n",
        "print(\"\\nResources used: \")\n",
        "print(\"Nitrogen content   \", m.NitrogenContent())\n",
        "print(\"Phosphorus content   \", m.PhosphorusContent())\n",
        "print(\"Potash content   \", m.PotashContent())"
      ],
      "metadata": {
        "colab": {
          "base_uri": "https://localhost:8080/"
        },
        "id": "r5AT8hQLePss",
        "outputId": "2b7da267-b972-4774-d2dc-ffb34117373f"
      },
      "execution_count": null,
      "outputs": [
        {
          "output_type": "stream",
          "name": "stdout",
          "text": [
            "Decision variables: \n",
            "Fertilizer A   0.0\n",
            "Fertilizer B   88.0\n",
            "Fertilizer C   96.0\n",
            "\n",
            "Objective: \n",
            "Total cost obtained 1.376\n",
            "\n",
            "Resources used: \n",
            "Nitrogen content    2.32\n",
            "Phosphorus content    1.4\n",
            "Potash content    1.7999999999999998\n"
          ]
        }
      ]
    },
    {
      "cell_type": "code",
      "source": [],
      "metadata": {
        "id": "weVlZYMLewsI"
      },
      "execution_count": null,
      "outputs": []
    }
  ]
}